{
 "cells": [
  {
   "cell_type": "markdown",
   "metadata": {},
   "source": [
    "<h1>Amazon apparel Recommendations</h1>"
   ]
  },
  {
   "cell_type": "markdown",
   "metadata": {},
   "source": [
    "### I am SOUHARDYA ADHIKARY\n",
    "You can see my profile at [GITHUB](https://github.com/SOUHARDYAADHIKARY1999)\n",
    "\n",
    "### Connect me at my linkedIn profile\n",
    "https://www.linkedin.com/in/souhardya-adhikary-a10a10156/\n"
   ]
  },
  {
   "cell_type": "markdown",
   "metadata": {},
   "source": [
    "### [1.0] Import the packages"
   ]
  },
  {
   "cell_type": "code",
   "execution_count": 1,
   "metadata": {},
   "outputs": [],
   "source": [
    "import pandas as pd\n",
    "from collections import Counter"
   ]
  },
  {
   "cell_type": "code",
   "execution_count": 2,
   "metadata": {},
   "outputs": [],
   "source": [
    "# we have give a json file which consists of all information about\n",
    "# the products\n",
    "# loading the data using pandas' read_json file.\n",
    "data=pd.read_json(open('/Users\\DELL\\PythonProjects\\RECOMENDATION_ENGINE/tops_fashion.json',\"r\",encoding=\"utf-8\"))"
   ]
  },
  {
   "cell_type": "code",
   "execution_count": 3,
   "metadata": {},
   "outputs": [
    {
     "name": "stdout",
     "output_type": "stream",
     "text": [
      "         sku        asin product_type_name formatted_price author  \\\n",
      "0       None  B016I2TS4W             SHIRT            None   None   \n",
      "1       None  B01N49AI08             SHIRT            None   None   \n",
      "2       None  B01JDPCOHO             SHIRT            None   None   \n",
      "3       None  B01N19U5H5             SHIRT            None   None   \n",
      "4       None  B004GSI2OS             SHIRT          $26.26   None   \n",
      "...      ...         ...               ...             ...    ...   \n",
      "183133  None  B01MSALTSO         OUTERWEAR          $14.58   None   \n",
      "183134  None  B015W98YQK             SHIRT            None   None   \n",
      "183135  None  B075756PGC             SHIRT            None   None   \n",
      "183136  None  B074L8FVTT             SHIRT          $44.99   None   \n",
      "183137  None  B074FTYJQC             SHIRT            None   None   \n",
      "\n",
      "                    color          brand      publisher  \\\n",
      "0                    None          FNC7C           None   \n",
      "1                    None   FIG Clothing           None   \n",
      "2                    None   FIG Clothing           None   \n",
      "3                    None        Focal18           None   \n",
      "4       Onyx Black/ Stone    FeatherLite           None   \n",
      "...                   ...            ...            ...   \n",
      "183133              Black      TOOGOO(R)           None   \n",
      "183134   Monochrome Plaid     VOGUE CODE           None   \n",
      "183135               Pink       Wrangler           None   \n",
      "183136               Rose  susana monaco  susana monaco   \n",
      "183137               None       Sexybaby           None   \n",
      "\n",
      "                               availability  \\\n",
      "0                                      None   \n",
      "1                                      None   \n",
      "2                                      None   \n",
      "3                                      None   \n",
      "4       Usually ships in 6-10 business days   \n",
      "...                                     ...   \n",
      "183133   Usually ships in 1-2 business days   \n",
      "183134                                 None   \n",
      "183135                                 None   \n",
      "183136   Usually ships in 2-3 business days   \n",
      "183137                                 None   \n",
      "\n",
      "                                                  reviews  \\\n",
      "0       [False, https://www.amazon.com/reviews/iframe?...   \n",
      "1       [False, https://www.amazon.com/reviews/iframe?...   \n",
      "2       [False, https://www.amazon.com/reviews/iframe?...   \n",
      "3       [True, https://www.amazon.com/reviews/iframe?a...   \n",
      "4       [False, https://www.amazon.com/reviews/iframe?...   \n",
      "...                                                   ...   \n",
      "183133  [False, https://www.amazon.com/reviews/iframe?...   \n",
      "183134  [False, https://www.amazon.com/reviews/iframe?...   \n",
      "183135  [False, https://www.amazon.com/reviews/iframe?...   \n",
      "183136  [False, https://www.amazon.com/reviews/iframe?...   \n",
      "183137  [False, https://www.amazon.com/reviews/iframe?...   \n",
      "\n",
      "                                          large_image_url availability_type  \\\n",
      "0       https://images-na.ssl-images-amazon.com/images...              None   \n",
      "1       https://images-na.ssl-images-amazon.com/images...              None   \n",
      "2       https://images-na.ssl-images-amazon.com/images...              None   \n",
      "3       https://images-na.ssl-images-amazon.com/images...              None   \n",
      "4       https://images-na.ssl-images-amazon.com/images...               now   \n",
      "...                                                   ...               ...   \n",
      "183133  https://images-na.ssl-images-amazon.com/images...               now   \n",
      "183134  https://images-na.ssl-images-amazon.com/images...              None   \n",
      "183135  https://images-na.ssl-images-amazon.com/images...              None   \n",
      "183136  https://images-na.ssl-images-amazon.com/images...               now   \n",
      "183137  https://images-na.ssl-images-amazon.com/images...              None   \n",
      "\n",
      "                                          small_image_url  \\\n",
      "0       https://images-na.ssl-images-amazon.com/images...   \n",
      "1       https://images-na.ssl-images-amazon.com/images...   \n",
      "2       https://images-na.ssl-images-amazon.com/images...   \n",
      "3       https://images-na.ssl-images-amazon.com/images...   \n",
      "4       https://images-na.ssl-images-amazon.com/images...   \n",
      "...                                                   ...   \n",
      "183133  https://images-na.ssl-images-amazon.com/images...   \n",
      "183134  https://images-na.ssl-images-amazon.com/images...   \n",
      "183135  https://images-na.ssl-images-amazon.com/images...   \n",
      "183136  https://images-na.ssl-images-amazon.com/images...   \n",
      "183137  https://images-na.ssl-images-amazon.com/images...   \n",
      "\n",
      "                                         editorial_review  \\\n",
      "0       Minions Como Superheroes Ironman Women's O Nec...   \n",
      "1       Sizing runs on the small side. FIG® recommends...   \n",
      "2       Sizing runs on the small side. FIG® recommends...   \n",
      "3       100% Brand New & Fashion<br> Quantity: 1 Piece...   \n",
      "4                                                           \n",
      "...                                                   ...   \n",
      "183133                                                NaN   \n",
      "183134                                                NaN   \n",
      "183135                                                NaN   \n",
      "183136                                                NaN   \n",
      "183137                                                NaN   \n",
      "\n",
      "                                                    title     model  \\\n",
      "0       Minions Como Superheroes Ironman Long Sleeve R...      None   \n",
      "1                           FIG Clothing Womens Izo Tunic      None   \n",
      "2                             FIG Clothing Womens Won Top      None   \n",
      "3       Focal18 Sailor Collar Bubble Sleeve Blouse Shi...      None   \n",
      "4       Featherlite Ladies' Long Sleeve Stain Resistan...      None   \n",
      "...                                                   ...       ...   \n",
      "183133  TOOGOO(R) Women's Tops Spring Autumn Casual Pu...  089106A4   \n",
      "183134  VOGUE CODE Vintage V Neck Plaid Shirt Sleevele...      None   \n",
      "183135  Wrangler George Strait For Her Long Sleeve Pin...   LGS7089   \n",
      "183136  Susana Monaco Womens Susana Monoco Sleeveless ...      None   \n",
      "183137  SexyBaby Women's Mesh Splive Flounced Sleeve C...      None   \n",
      "\n",
      "                                         medium_image_url   manufacturer  \\\n",
      "0       https://images-na.ssl-images-amazon.com/images...           None   \n",
      "1       https://images-na.ssl-images-amazon.com/images...           None   \n",
      "2       https://images-na.ssl-images-amazon.com/images...           None   \n",
      "3       https://images-na.ssl-images-amazon.com/images...           None   \n",
      "4       https://images-na.ssl-images-amazon.com/images...           None   \n",
      "...                                                   ...            ...   \n",
      "183133  https://images-na.ssl-images-amazon.com/images...           None   \n",
      "183134  https://images-na.ssl-images-amazon.com/images...           None   \n",
      "183135  https://images-na.ssl-images-amazon.com/images...           None   \n",
      "183136  https://images-na.ssl-images-amazon.com/images...  susana monaco   \n",
      "183137  https://images-na.ssl-images-amazon.com/images...           None   \n",
      "\n",
      "                                         editorial_reivew  \n",
      "0                                                     NaN  \n",
      "1                                                     NaN  \n",
      "2                                                     NaN  \n",
      "3                                                     NaN  \n",
      "4                                                     NaN  \n",
      "...                                                   ...  \n",
      "183133  <b>* TOOGOO is a registered trademark. ONLY Au...  \n",
      "183134  SIZE CHART <p> XS for length of front 27.6\"; l...  \n",
      "183135  Pretty pink print button down Western shirt fr...  \n",
      "183136  Color/pattern: rose. Approximately 23in from s...  \n",
      "183137  Please check the measurement chart carefully. ...  \n",
      "\n",
      "[183138 rows x 19 columns]\n"
     ]
    }
   ],
   "source": [
    "print(data)"
   ]
  },
  {
   "cell_type": "code",
   "execution_count": 4,
   "metadata": {},
   "outputs": [
    {
     "name": "stdout",
     "output_type": "stream",
     "text": [
      "Number of data points :  183138\n",
      "Number of features/variables: 19\n"
     ]
    }
   ],
   "source": [
    "print ('Number of data points : ', data.shape[0])\n",
    "print ('Number of features/variables:', data.shape[1])"
   ]
  },
  {
   "cell_type": "markdown",
   "metadata": {},
   "source": [
    "### Terminology\n",
    "Let's see the attributes we have \n",
    "### Each column name is a specific feature of the items"
   ]
  },
  {
   "cell_type": "code",
   "execution_count": 5,
   "metadata": {},
   "outputs": [
    {
     "name": "stdout",
     "output_type": "stream",
     "text": [
      "Index(['sku', 'asin', 'product_type_name', 'formatted_price', 'author',\n",
      "       'color', 'brand', 'publisher', 'availability', 'reviews',\n",
      "       'large_image_url', 'availability_type', 'small_image_url',\n",
      "       'editorial_review', 'title', 'model', 'medium_image_url',\n",
      "       'manufacturer', 'editorial_reivew'],\n",
      "      dtype='object')\n"
     ]
    }
   ],
   "source": [
    "# each product/item has 19 features in the raw dataset.\n",
    "print(data.columns)# prints column-names or feature-names."
   ]
  },
  {
   "cell_type": "markdown",
   "metadata": {},
   "source": [
    "Of these 19 features, I will be using only 6 features in this workshop.\n",
    "    1. asin  ( Amazon standard identification number)\n",
    "    2. brand ( brand to which the product belongs to )\n",
    "    3. color ( Color information of apparel, it can contain many colors as   a value ex: red and black stripes ) \n",
    "    4. product_type_name (type of the apperal, ex: SHIRT/TSHIRT )\n",
    "    5. medium_image_url  ( url of the image )\n",
    "    6. title (title of the product.)\n",
    "    7. formatted_price (price of the product)"
   ]
  },
  {
   "cell_type": "code",
   "execution_count": 6,
   "metadata": {},
   "outputs": [],
   "source": [
    "data = data[['asin', 'brand', 'color', 'medium_image_url', 'product_type_name', 'title', 'formatted_price']]"
   ]
  },
  {
   "cell_type": "code",
   "execution_count": 7,
   "metadata": {},
   "outputs": [
    {
     "name": "stdout",
     "output_type": "stream",
     "text": [
      "              asin          brand              color  \\\n",
      "0       B016I2TS4W          FNC7C               None   \n",
      "1       B01N49AI08   FIG Clothing               None   \n",
      "2       B01JDPCOHO   FIG Clothing               None   \n",
      "3       B01N19U5H5        Focal18               None   \n",
      "4       B004GSI2OS    FeatherLite  Onyx Black/ Stone   \n",
      "...            ...            ...                ...   \n",
      "183133  B01MSALTSO      TOOGOO(R)              Black   \n",
      "183134  B015W98YQK     VOGUE CODE   Monochrome Plaid   \n",
      "183135  B075756PGC       Wrangler               Pink   \n",
      "183136  B074L8FVTT  susana monaco               Rose   \n",
      "183137  B074FTYJQC       Sexybaby               None   \n",
      "\n",
      "                                         medium_image_url product_type_name  \\\n",
      "0       https://images-na.ssl-images-amazon.com/images...             SHIRT   \n",
      "1       https://images-na.ssl-images-amazon.com/images...             SHIRT   \n",
      "2       https://images-na.ssl-images-amazon.com/images...             SHIRT   \n",
      "3       https://images-na.ssl-images-amazon.com/images...             SHIRT   \n",
      "4       https://images-na.ssl-images-amazon.com/images...             SHIRT   \n",
      "...                                                   ...               ...   \n",
      "183133  https://images-na.ssl-images-amazon.com/images...         OUTERWEAR   \n",
      "183134  https://images-na.ssl-images-amazon.com/images...             SHIRT   \n",
      "183135  https://images-na.ssl-images-amazon.com/images...             SHIRT   \n",
      "183136  https://images-na.ssl-images-amazon.com/images...             SHIRT   \n",
      "183137  https://images-na.ssl-images-amazon.com/images...             SHIRT   \n",
      "\n",
      "                                                    title formatted_price  \n",
      "0       Minions Como Superheroes Ironman Long Sleeve R...            None  \n",
      "1                           FIG Clothing Womens Izo Tunic            None  \n",
      "2                             FIG Clothing Womens Won Top            None  \n",
      "3       Focal18 Sailor Collar Bubble Sleeve Blouse Shi...            None  \n",
      "4       Featherlite Ladies' Long Sleeve Stain Resistan...          $26.26  \n",
      "...                                                   ...             ...  \n",
      "183133  TOOGOO(R) Women's Tops Spring Autumn Casual Pu...          $14.58  \n",
      "183134  VOGUE CODE Vintage V Neck Plaid Shirt Sleevele...            None  \n",
      "183135  Wrangler George Strait For Her Long Sleeve Pin...            None  \n",
      "183136  Susana Monaco Womens Susana Monoco Sleeveless ...          $44.99  \n",
      "183137  SexyBaby Women's Mesh Splive Flounced Sleeve C...            None  \n",
      "\n",
      "[183138 rows x 7 columns]\n"
     ]
    }
   ],
   "source": [
    "print(data)"
   ]
  },
  {
   "cell_type": "code",
   "execution_count": 8,
   "metadata": {},
   "outputs": [
    {
     "name": "stdout",
     "output_type": "stream",
     "text": [
      "Number of data points :  183138\n",
      "Number of features/variables: 7\n"
     ]
    }
   ],
   "source": [
    "print ('Number of data points : ', data.shape[0])\n",
    "print ('Number of features/variables:', data.shape[1])"
   ]
  },
  {
   "cell_type": "code",
   "execution_count": 9,
   "metadata": {},
   "outputs": [
    {
     "data": {
      "text/plain": [
       "<bound method NDFrame.head of               asin          brand              color  \\\n",
       "0       B016I2TS4W          FNC7C               None   \n",
       "1       B01N49AI08   FIG Clothing               None   \n",
       "2       B01JDPCOHO   FIG Clothing               None   \n",
       "3       B01N19U5H5        Focal18               None   \n",
       "4       B004GSI2OS    FeatherLite  Onyx Black/ Stone   \n",
       "...            ...            ...                ...   \n",
       "183133  B01MSALTSO      TOOGOO(R)              Black   \n",
       "183134  B015W98YQK     VOGUE CODE   Monochrome Plaid   \n",
       "183135  B075756PGC       Wrangler               Pink   \n",
       "183136  B074L8FVTT  susana monaco               Rose   \n",
       "183137  B074FTYJQC       Sexybaby               None   \n",
       "\n",
       "                                         medium_image_url product_type_name  \\\n",
       "0       https://images-na.ssl-images-amazon.com/images...             SHIRT   \n",
       "1       https://images-na.ssl-images-amazon.com/images...             SHIRT   \n",
       "2       https://images-na.ssl-images-amazon.com/images...             SHIRT   \n",
       "3       https://images-na.ssl-images-amazon.com/images...             SHIRT   \n",
       "4       https://images-na.ssl-images-amazon.com/images...             SHIRT   \n",
       "...                                                   ...               ...   \n",
       "183133  https://images-na.ssl-images-amazon.com/images...         OUTERWEAR   \n",
       "183134  https://images-na.ssl-images-amazon.com/images...             SHIRT   \n",
       "183135  https://images-na.ssl-images-amazon.com/images...             SHIRT   \n",
       "183136  https://images-na.ssl-images-amazon.com/images...             SHIRT   \n",
       "183137  https://images-na.ssl-images-amazon.com/images...             SHIRT   \n",
       "\n",
       "                                                    title formatted_price  \n",
       "0       Minions Como Superheroes Ironman Long Sleeve R...            None  \n",
       "1                           FIG Clothing Womens Izo Tunic            None  \n",
       "2                             FIG Clothing Womens Won Top            None  \n",
       "3       Focal18 Sailor Collar Bubble Sleeve Blouse Shi...            None  \n",
       "4       Featherlite Ladies' Long Sleeve Stain Resistan...          $26.26  \n",
       "...                                                   ...             ...  \n",
       "183133  TOOGOO(R) Women's Tops Spring Autumn Casual Pu...          $14.58  \n",
       "183134  VOGUE CODE Vintage V Neck Plaid Shirt Sleevele...            None  \n",
       "183135  Wrangler George Strait For Her Long Sleeve Pin...            None  \n",
       "183136  Susana Monaco Womens Susana Monoco Sleeveless ...          $44.99  \n",
       "183137  SexyBaby Women's Mesh Splive Flounced Sleeve C...            None  \n",
       "\n",
       "[183138 rows x 7 columns]>"
      ]
     },
     "execution_count": 9,
     "metadata": {},
     "output_type": "execute_result"
    }
   ],
   "source": [
    "data.head"
   ]
  },
  {
   "cell_type": "markdown",
   "metadata": {},
   "source": [
    "### Missing data for various features."
   ]
  },
  {
   "cell_type": "markdown",
   "metadata": {},
   "source": [
    "####  Basic stats for the feature: product_type_name"
   ]
  },
  {
   "cell_type": "code",
   "execution_count": 10,
   "metadata": {
    "scrolled": true
   },
   "outputs": [
    {
     "name": "stdout",
     "output_type": "stream",
     "text": [
      "count     183138\n",
      "unique        72\n",
      "top        SHIRT\n",
      "freq      167794\n",
      "Name: product_type_name, dtype: object\n"
     ]
    }
   ],
   "source": [
    "# We have total 72 unique type of product_type_names\n",
    "print(data['product_type_name'].describe())\n",
    "\n",
    "# 91.62% (167794/183138) of the products are shirts,"
   ]
  },
  {
   "cell_type": "code",
   "execution_count": 11,
   "metadata": {
    "scrolled": true
   },
   "outputs": [
    {
     "name": "stdout",
     "output_type": "stream",
     "text": [
      "count     182987\n",
      "unique     10577\n",
      "top         Zago\n",
      "freq         223\n",
      "Name: brand, dtype: object\n"
     ]
    }
   ],
   "source": [
    "# We have total 10577 unique type of brands\n",
    "print(data['brand'].describe())"
   ]
  },
  {
   "cell_type": "code",
   "execution_count": 12,
   "metadata": {},
   "outputs": [
    {
     "name": "stdout",
     "output_type": "stream",
     "text": [
      "count                                                183138\n",
      "unique                                               175985\n",
      "top       Nakoda Cotton Self Print Straight Kurti For Women\n",
      "freq                                                     77\n",
      "Name: title, dtype: object\n"
     ]
    }
   ],
   "source": [
    "# So we also have simiral types of products \n",
    "print(data['title'].describe())"
   ]
  },
  {
   "cell_type": "code",
   "execution_count": 13,
   "metadata": {},
   "outputs": [
    {
     "name": "stdout",
     "output_type": "stream",
     "text": [
      "['SHIRT' 'SWEATER' 'APPAREL' 'OUTDOOR_RECREATION_PRODUCT'\n",
      " 'BOOKS_1973_AND_LATER' 'PANTS' 'HAT' 'SPORTING_GOODS' 'DRESS' 'UNDERWEAR'\n",
      " 'SKIRT' 'OUTERWEAR' 'BRA' 'ACCESSORY' 'ART_SUPPLIES' 'SLEEPWEAR'\n",
      " 'ORCA_SHIRT' 'HANDBAG' 'PET_SUPPLIES' 'SHOES' 'KITCHEN' 'ADULT_COSTUME'\n",
      " 'HOME_BED_AND_BATH' 'MISC_OTHER' 'BLAZER' 'HEALTH_PERSONAL_CARE'\n",
      " 'TOYS_AND_GAMES' 'SWIMWEAR' 'CONSUMER_ELECTRONICS' 'SHORTS' 'HOME'\n",
      " 'AUTO_PART' 'OFFICE_PRODUCTS' 'ETHNIC_WEAR' 'BEAUTY'\n",
      " 'INSTRUMENT_PARTS_AND_ACCESSORIES' 'POWERSPORTS_PROTECTIVE_GEAR' 'SHIRTS'\n",
      " 'ABIS_APPAREL' 'AUTO_ACCESSORY' 'NONAPPARELMISC' 'TOOLS' 'BABY_PRODUCT'\n",
      " 'SOCKSHOSIERY' 'POWERSPORTS_RIDING_SHIRT' 'EYEWEAR' 'SUIT'\n",
      " 'OUTDOOR_LIVING' 'POWERSPORTS_RIDING_JACKET' 'HARDWARE' 'SAFETY_SUPPLY'\n",
      " 'ABIS_DVD' 'VIDEO_DVD' 'GOLF_CLUB' 'MUSIC_POPULAR_VINYL'\n",
      " 'HOME_FURNITURE_AND_DECOR' 'TABLET_COMPUTER' 'GUILD_ACCESSORIES'\n",
      " 'ABIS_SPORTS' 'ART_AND_CRAFT_SUPPLY' 'BAG' 'MECHANICAL_COMPONENTS'\n",
      " 'SOUND_AND_RECORDING_EQUIPMENT' 'COMPUTER_COMPONENT' 'JEWELRY'\n",
      " 'BUILDING_MATERIAL' 'LUGGAGE' 'BABY_COSTUME' 'POWERSPORTS_VEHICLE_PART'\n",
      " 'PROFESSIONAL_HEALTHCARE' 'SEEDS_AND_PLANTS' 'WIRELESS_ACCESSORY']\n"
     ]
    }
   ],
   "source": [
    "# names of different product types\n",
    "print(data['product_type_name'].unique())"
   ]
  },
  {
   "cell_type": "code",
   "execution_count": 14,
   "metadata": {},
   "outputs": [
    {
     "name": "stdout",
     "output_type": "stream",
     "text": [
      "<class 'pandas.core.frame.DataFrame'>\n"
     ]
    }
   ],
   "source": [
    "# This is the type of data set we have\n",
    "print(type(data))"
   ]
  },
  {
   "cell_type": "code",
   "execution_count": 15,
   "metadata": {},
   "outputs": [
    {
     "name": "stdout",
     "output_type": "stream",
     "text": [
      "              asin          brand              color  \\\n",
      "0       B016I2TS4W          FNC7C               None   \n",
      "1       B01N49AI08   FIG Clothing               None   \n",
      "2       B01JDPCOHO   FIG Clothing               None   \n",
      "3       B01N19U5H5        Focal18               None   \n",
      "4       B004GSI2OS    FeatherLite  Onyx Black/ Stone   \n",
      "...            ...            ...                ...   \n",
      "183133  B01MSALTSO      TOOGOO(R)              Black   \n",
      "183134  B015W98YQK     VOGUE CODE   Monochrome Plaid   \n",
      "183135  B075756PGC       Wrangler               Pink   \n",
      "183136  B074L8FVTT  susana monaco               Rose   \n",
      "183137  B074FTYJQC       Sexybaby               None   \n",
      "\n",
      "                                         medium_image_url product_type_name  \\\n",
      "0       https://images-na.ssl-images-amazon.com/images...             SHIRT   \n",
      "1       https://images-na.ssl-images-amazon.com/images...             SHIRT   \n",
      "2       https://images-na.ssl-images-amazon.com/images...             SHIRT   \n",
      "3       https://images-na.ssl-images-amazon.com/images...             SHIRT   \n",
      "4       https://images-na.ssl-images-amazon.com/images...             SHIRT   \n",
      "...                                                   ...               ...   \n",
      "183133  https://images-na.ssl-images-amazon.com/images...         OUTERWEAR   \n",
      "183134  https://images-na.ssl-images-amazon.com/images...             SHIRT   \n",
      "183135  https://images-na.ssl-images-amazon.com/images...             SHIRT   \n",
      "183136  https://images-na.ssl-images-amazon.com/images...             SHIRT   \n",
      "183137  https://images-na.ssl-images-amazon.com/images...             SHIRT   \n",
      "\n",
      "                                                    title formatted_price  \n",
      "0       Minions Como Superheroes Ironman Long Sleeve R...            None  \n",
      "1                           FIG Clothing Womens Izo Tunic            None  \n",
      "2                             FIG Clothing Womens Won Top            None  \n",
      "3       Focal18 Sailor Collar Bubble Sleeve Blouse Shi...            None  \n",
      "4       Featherlite Ladies' Long Sleeve Stain Resistan...          $26.26  \n",
      "...                                                   ...             ...  \n",
      "183133  TOOGOO(R) Women's Tops Spring Autumn Casual Pu...          $14.58  \n",
      "183134  VOGUE CODE Vintage V Neck Plaid Shirt Sleevele...            None  \n",
      "183135  Wrangler George Strait For Her Long Sleeve Pin...            None  \n",
      "183136  Susana Monaco Womens Susana Monoco Sleeveless ...          $44.99  \n",
      "183137  SexyBaby Women's Mesh Splive Flounced Sleeve C...            None  \n",
      "\n",
      "[183138 rows x 7 columns]\n"
     ]
    }
   ],
   "source": [
    "print(data)"
   ]
  },
  {
   "cell_type": "code",
   "execution_count": 16,
   "metadata": {},
   "outputs": [
    {
     "data": {
      "text/plain": [
       "Counter({'SHIRT': 167794,\n",
       "         'SWEATER': 837,\n",
       "         'APPAREL': 3549,\n",
       "         'OUTDOOR_RECREATION_PRODUCT': 729,\n",
       "         'BOOKS_1973_AND_LATER': 3336,\n",
       "         'PANTS': 363,\n",
       "         'HAT': 18,\n",
       "         'SPORTING_GOODS': 1281,\n",
       "         'DRESS': 1584,\n",
       "         'UNDERWEAR': 425,\n",
       "         'SKIRT': 107,\n",
       "         'OUTERWEAR': 796,\n",
       "         'BRA': 95,\n",
       "         'ACCESSORY': 636,\n",
       "         'ART_SUPPLIES': 17,\n",
       "         'SLEEPWEAR': 142,\n",
       "         'ORCA_SHIRT': 290,\n",
       "         'HANDBAG': 21,\n",
       "         'PET_SUPPLIES': 2,\n",
       "         'SHOES': 198,\n",
       "         'KITCHEN': 46,\n",
       "         'ADULT_COSTUME': 25,\n",
       "         'HOME_BED_AND_BATH': 11,\n",
       "         'MISC_OTHER': 62,\n",
       "         'BLAZER': 249,\n",
       "         'HEALTH_PERSONAL_CARE': 92,\n",
       "         'TOYS_AND_GAMES': 80,\n",
       "         'SWIMWEAR': 41,\n",
       "         'CONSUMER_ELECTRONICS': 1,\n",
       "         'SHORTS': 14,\n",
       "         'HOME': 34,\n",
       "         'AUTO_PART': 3,\n",
       "         'OFFICE_PRODUCTS': 7,\n",
       "         'ETHNIC_WEAR': 34,\n",
       "         'BEAUTY': 21,\n",
       "         'INSTRUMENT_PARTS_AND_ACCESSORIES': 3,\n",
       "         'POWERSPORTS_PROTECTIVE_GEAR': 40,\n",
       "         'SHIRTS': 4,\n",
       "         'ABIS_APPAREL': 3,\n",
       "         'AUTO_ACCESSORY': 52,\n",
       "         'NONAPPARELMISC': 1,\n",
       "         'TOOLS': 14,\n",
       "         'BABY_PRODUCT': 4,\n",
       "         'SOCKSHOSIERY': 16,\n",
       "         'POWERSPORTS_RIDING_SHIRT': 2,\n",
       "         'EYEWEAR': 1,\n",
       "         'SUIT': 8,\n",
       "         'OUTDOOR_LIVING': 6,\n",
       "         'POWERSPORTS_RIDING_JACKET': 2,\n",
       "         'HARDWARE': 3,\n",
       "         'SAFETY_SUPPLY': 3,\n",
       "         'ABIS_DVD': 1,\n",
       "         'VIDEO_DVD': 1,\n",
       "         'GOLF_CLUB': 1,\n",
       "         'MUSIC_POPULAR_VINYL': 1,\n",
       "         'HOME_FURNITURE_AND_DECOR': 2,\n",
       "         'TABLET_COMPUTER': 1,\n",
       "         'GUILD_ACCESSORIES': 1,\n",
       "         'ABIS_SPORTS': 1,\n",
       "         'ART_AND_CRAFT_SUPPLY': 1,\n",
       "         'BAG': 2,\n",
       "         'MECHANICAL_COMPONENTS': 2,\n",
       "         'SOUND_AND_RECORDING_EQUIPMENT': 9,\n",
       "         'COMPUTER_COMPONENT': 1,\n",
       "         'JEWELRY': 1,\n",
       "         'BUILDING_MATERIAL': 1,\n",
       "         'LUGGAGE': 3,\n",
       "         'BABY_COSTUME': 2,\n",
       "         'POWERSPORTS_VEHICLE_PART': 2,\n",
       "         'PROFESSIONAL_HEALTHCARE': 1,\n",
       "         'SEEDS_AND_PLANTS': 1,\n",
       "         'WIRELESS_ACCESSORY': 1})"
      ]
     },
     "execution_count": 16,
     "metadata": {},
     "output_type": "execute_result"
    }
   ],
   "source": [
    "product_type_count = Counter(list(data['product_type_name']))\n",
    "product_type_count"
   ]
  },
  {
   "cell_type": "code",
   "execution_count": 17,
   "metadata": {},
   "outputs": [
    {
     "data": {
      "text/plain": [
       "[('SHIRT', 167794)]"
      ]
     },
     "execution_count": 17,
     "metadata": {},
     "output_type": "execute_result"
    }
   ],
   "source": [
    "# Let's see the most common product type we have\n",
    "product_type_count.most_common(1)"
   ]
  },
  {
   "cell_type": "code",
   "execution_count": 18,
   "metadata": {},
   "outputs": [
    {
     "data": {
      "text/plain": [
       "[('SHIRT', 167794),\n",
       " ('APPAREL', 3549),\n",
       " ('BOOKS_1973_AND_LATER', 3336),\n",
       " ('DRESS', 1584),\n",
       " ('SPORTING_GOODS', 1281),\n",
       " ('SWEATER', 837),\n",
       " ('OUTERWEAR', 796),\n",
       " ('OUTDOOR_RECREATION_PRODUCT', 729),\n",
       " ('ACCESSORY', 636),\n",
       " ('UNDERWEAR', 425)]"
      ]
     },
     "execution_count": 18,
     "metadata": {},
     "output_type": "execute_result"
    }
   ],
   "source": [
    "# Let's explore the other products we have\n",
    "product_type_count.most_common(10)"
   ]
  },
  {
   "cell_type": "markdown",
   "metadata": {},
   "source": [
    "####  Basic stats for the feature: brand"
   ]
  },
  {
   "cell_type": "code",
   "execution_count": 19,
   "metadata": {},
   "outputs": [
    {
     "name": "stdout",
     "output_type": "stream",
     "text": [
      "count     182987\n",
      "unique     10577\n",
      "top         Zago\n",
      "freq         223\n",
      "Name: brand, dtype: object\n"
     ]
    }
   ],
   "source": [
    "# there are 10577 unique brands\n",
    "print(data['brand'].describe())\n",
    "\n",
    "# 183138 - 182987 = 151 missing values."
   ]
  },
  {
   "cell_type": "code",
   "execution_count": 20,
   "metadata": {},
   "outputs": [
    {
     "data": {
      "text/plain": [
       "[('Zago', 223),\n",
       " ('XQS', 222),\n",
       " ('Yayun', 215),\n",
       " ('YUNY', 198),\n",
       " ('XiaoTianXin-women clothes', 193),\n",
       " ('Generic', 192),\n",
       " ('Boohoo', 190),\n",
       " ('Alion', 188),\n",
       " ('Abetteric', 187),\n",
       " ('TheMogan', 187)]"
      ]
     },
     "execution_count": 20,
     "metadata": {},
     "output_type": "execute_result"
    }
   ],
   "source": [
    "brand_count = Counter(list(data['brand']))\n",
    "brand_count.most_common(10)"
   ]
  },
  {
   "cell_type": "markdown",
   "metadata": {},
   "source": [
    "####  Basic stats for the feature: color"
   ]
  },
  {
   "cell_type": "code",
   "execution_count": 21,
   "metadata": {},
   "outputs": [
    {
     "name": "stdout",
     "output_type": "stream",
     "text": [
      "count     64956\n",
      "unique     7380\n",
      "top       Black\n",
      "freq      13207\n",
      "Name: color, dtype: object\n"
     ]
    }
   ],
   "source": [
    "\n",
    "print(data['color'].describe())\n",
    "\n",
    "\n",
    "# we have 7380 unique colors\n",
    "# 7.2% of products are black in color\n",
    "# 64956 of 183138 products have brand information. That's approx 35.4%."
   ]
  },
  {
   "cell_type": "code",
   "execution_count": 22,
   "metadata": {},
   "outputs": [
    {
     "data": {
      "text/plain": [
       "[(None, 118182),\n",
       " ('Black', 13207),\n",
       " ('White', 8616),\n",
       " ('Blue', 3570),\n",
       " ('Red', 2289),\n",
       " ('Pink', 1842),\n",
       " ('Grey', 1499),\n",
       " ('*', 1388),\n",
       " ('Green', 1258),\n",
       " ('Multi', 1203)]"
      ]
     },
     "execution_count": 22,
     "metadata": {},
     "output_type": "execute_result"
    }
   ],
   "source": [
    "color_count = Counter(list(data['color']))\n",
    "color_count.most_common(10)"
   ]
  },
  {
   "cell_type": "markdown",
   "metadata": {},
   "source": [
    "####  Basic stats for the feature: formatted_price"
   ]
  },
  {
   "cell_type": "code",
   "execution_count": 23,
   "metadata": {},
   "outputs": [
    {
     "name": "stdout",
     "output_type": "stream",
     "text": [
      "count      28395\n",
      "unique      3135\n",
      "top       $19.99\n",
      "freq         945\n",
      "Name: formatted_price, dtype: object\n"
     ]
    }
   ],
   "source": [
    " \n",
    "print(data['formatted_price'].describe())\n",
    "\n",
    "# Only 28,395 (15.5% of whole data) products with price information"
   ]
  },
  {
   "cell_type": "code",
   "execution_count": 24,
   "metadata": {},
   "outputs": [
    {
     "data": {
      "text/plain": [
       "[(None, 154743),\n",
       " ('$19.99', 945),\n",
       " ('$9.99', 749),\n",
       " ('$9.50', 601),\n",
       " ('$14.99', 472),\n",
       " ('$7.50', 463),\n",
       " ('$24.99', 414),\n",
       " ('$29.99', 370),\n",
       " ('$8.99', 343),\n",
       " ('$9.01', 336)]"
      ]
     },
     "execution_count": 24,
     "metadata": {},
     "output_type": "execute_result"
    }
   ],
   "source": [
    "price_count = Counter(list(data['formatted_price']))\n",
    "price_count.most_common(10)"
   ]
  },
  {
   "cell_type": "markdown",
   "metadata": {},
   "source": [
    "#### Basic stats for the feature: title\n"
   ]
  },
  {
   "cell_type": "code",
   "execution_count": 25,
   "metadata": {},
   "outputs": [
    {
     "name": "stdout",
     "output_type": "stream",
     "text": [
      "count                                                183138\n",
      "unique                                               175985\n",
      "top       Nakoda Cotton Self Print Straight Kurti For Women\n",
      "freq                                                     77\n",
      "Name: title, dtype: object\n"
     ]
    }
   ],
   "source": [
    "print(data['title'].describe())\n",
    "\n",
    "# All of the products have a title. \n",
    "# Titles are fairly descriptive of what the product is. \n",
    "# We use titles extensively in this workshop \n",
    "# as they are short and informative.\n"
   ]
  },
  {
   "cell_type": "markdown",
   "metadata": {},
   "source": [
    "## We save data files at every major step in our processing in \"pickle\" files. If you are stuck anywhere (or) if some code takes too long to run on your laptop, you may use the pickle files we give you to speed things up."
   ]
  },
  {
   "cell_type": "code",
   "execution_count": 26,
   "metadata": {},
   "outputs": [],
   "source": [
    "data.to_pickle('pickels/180k_apparel_data')"
   ]
  },
  {
   "cell_type": "code",
   "execution_count": 27,
   "metadata": {},
   "outputs": [
    {
     "name": "stdout",
     "output_type": "stream",
     "text": [
      "Number of data points After eliminating price=NULL : 28395\n"
     ]
    }
   ],
   "source": [
    "# consider products which have price information\n",
    "# data['formatted_price'].isnull() => gives the information \n",
    "#about the dataframe row's which have null values price == None|Null\n",
    "data = data.loc[~data['formatted_price'].isnull()]\n",
    "print('Number of data points After eliminating price=NULL :', data.shape[0])"
   ]
  },
  {
   "cell_type": "code",
   "execution_count": null,
   "metadata": {},
   "outputs": [],
   "source": []
  }
 ],
 "metadata": {
  "kernelspec": {
   "display_name": "Python 3",
   "language": "python",
   "name": "python3"
  },
  "language_info": {
   "codemirror_mode": {
    "name": "ipython",
    "version": 3
   },
   "file_extension": ".py",
   "mimetype": "text/x-python",
   "name": "python",
   "nbconvert_exporter": "python",
   "pygments_lexer": "ipython3",
   "version": "3.7.4"
  }
 },
 "nbformat": 4,
 "nbformat_minor": 1
}
