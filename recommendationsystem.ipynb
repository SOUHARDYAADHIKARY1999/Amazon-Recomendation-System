{
 "cells": [
  {
   "cell_type": "markdown",
   "metadata": {},
   "source": [
    "<h1>Amazon apparel Recommendations</h1>"
   ]
  },
  {
   "cell_type": "markdown",
   "metadata": {},
   "source": [
    "### SOUHARDYA ADHIKARY\n",
    "You can see my profile at [GITHUB](https://github.com/SOUHARDYAADHIKARY1999)\n",
    "\n",
    "### Connect me at my linkedIn profile\n",
    "https://www.linkedin.com/in/souhardya-adhikary-a10a10156/\n"
   ]
  },
  {
   "cell_type": "markdown",
   "metadata": {},
   "source": [
    "### [1.0] Import the packages"
   ]
  },
  {
   "cell_type": "code",
   "execution_count": 6,
   "metadata": {},
   "outputs": [],
   "source": [
    "import pandas as pd"
   ]
  },
  {
   "cell_type": "code",
   "execution_count": 7,
   "metadata": {},
   "outputs": [],
   "source": [
    "# we have give a json file which consists of all information about\n",
    "# the products\n",
    "# loading the data using pandas' read_json file.\n",
    "data=pd.read_json(open('/Users\\DELL\\PythonProjects\\RECOMENDATION_ENGINE/tops_fashion.json',\"r\",encoding=\"utf-8\"))"
   ]
  },
  {
   "cell_type": "code",
   "execution_count": 8,
   "metadata": {},
   "outputs": [
    {
     "name": "stdout",
     "output_type": "stream",
     "text": [
      "         sku        asin product_type_name formatted_price author  \\\n",
      "0       None  B016I2TS4W             SHIRT            None   None   \n",
      "1       None  B01N49AI08             SHIRT            None   None   \n",
      "2       None  B01JDPCOHO             SHIRT            None   None   \n",
      "3       None  B01N19U5H5             SHIRT            None   None   \n",
      "4       None  B004GSI2OS             SHIRT          $26.26   None   \n",
      "...      ...         ...               ...             ...    ...   \n",
      "183133  None  B01MSALTSO         OUTERWEAR          $14.58   None   \n",
      "183134  None  B015W98YQK             SHIRT            None   None   \n",
      "183135  None  B075756PGC             SHIRT            None   None   \n",
      "183136  None  B074L8FVTT             SHIRT          $44.99   None   \n",
      "183137  None  B074FTYJQC             SHIRT            None   None   \n",
      "\n",
      "                    color          brand      publisher  \\\n",
      "0                    None          FNC7C           None   \n",
      "1                    None   FIG Clothing           None   \n",
      "2                    None   FIG Clothing           None   \n",
      "3                    None        Focal18           None   \n",
      "4       Onyx Black/ Stone    FeatherLite           None   \n",
      "...                   ...            ...            ...   \n",
      "183133              Black      TOOGOO(R)           None   \n",
      "183134   Monochrome Plaid     VOGUE CODE           None   \n",
      "183135               Pink       Wrangler           None   \n",
      "183136               Rose  susana monaco  susana monaco   \n",
      "183137               None       Sexybaby           None   \n",
      "\n",
      "                               availability  \\\n",
      "0                                      None   \n",
      "1                                      None   \n",
      "2                                      None   \n",
      "3                                      None   \n",
      "4       Usually ships in 6-10 business days   \n",
      "...                                     ...   \n",
      "183133   Usually ships in 1-2 business days   \n",
      "183134                                 None   \n",
      "183135                                 None   \n",
      "183136   Usually ships in 2-3 business days   \n",
      "183137                                 None   \n",
      "\n",
      "                                                  reviews  \\\n",
      "0       [False, https://www.amazon.com/reviews/iframe?...   \n",
      "1       [False, https://www.amazon.com/reviews/iframe?...   \n",
      "2       [False, https://www.amazon.com/reviews/iframe?...   \n",
      "3       [True, https://www.amazon.com/reviews/iframe?a...   \n",
      "4       [False, https://www.amazon.com/reviews/iframe?...   \n",
      "...                                                   ...   \n",
      "183133  [False, https://www.amazon.com/reviews/iframe?...   \n",
      "183134  [False, https://www.amazon.com/reviews/iframe?...   \n",
      "183135  [False, https://www.amazon.com/reviews/iframe?...   \n",
      "183136  [False, https://www.amazon.com/reviews/iframe?...   \n",
      "183137  [False, https://www.amazon.com/reviews/iframe?...   \n",
      "\n",
      "                                          large_image_url availability_type  \\\n",
      "0       https://images-na.ssl-images-amazon.com/images...              None   \n",
      "1       https://images-na.ssl-images-amazon.com/images...              None   \n",
      "2       https://images-na.ssl-images-amazon.com/images...              None   \n",
      "3       https://images-na.ssl-images-amazon.com/images...              None   \n",
      "4       https://images-na.ssl-images-amazon.com/images...               now   \n",
      "...                                                   ...               ...   \n",
      "183133  https://images-na.ssl-images-amazon.com/images...               now   \n",
      "183134  https://images-na.ssl-images-amazon.com/images...              None   \n",
      "183135  https://images-na.ssl-images-amazon.com/images...              None   \n",
      "183136  https://images-na.ssl-images-amazon.com/images...               now   \n",
      "183137  https://images-na.ssl-images-amazon.com/images...              None   \n",
      "\n",
      "                                          small_image_url  \\\n",
      "0       https://images-na.ssl-images-amazon.com/images...   \n",
      "1       https://images-na.ssl-images-amazon.com/images...   \n",
      "2       https://images-na.ssl-images-amazon.com/images...   \n",
      "3       https://images-na.ssl-images-amazon.com/images...   \n",
      "4       https://images-na.ssl-images-amazon.com/images...   \n",
      "...                                                   ...   \n",
      "183133  https://images-na.ssl-images-amazon.com/images...   \n",
      "183134  https://images-na.ssl-images-amazon.com/images...   \n",
      "183135  https://images-na.ssl-images-amazon.com/images...   \n",
      "183136  https://images-na.ssl-images-amazon.com/images...   \n",
      "183137  https://images-na.ssl-images-amazon.com/images...   \n",
      "\n",
      "                                         editorial_review  \\\n",
      "0       Minions Como Superheroes Ironman Women's O Nec...   \n",
      "1       Sizing runs on the small side. FIG® recommends...   \n",
      "2       Sizing runs on the small side. FIG® recommends...   \n",
      "3       100% Brand New & Fashion<br> Quantity: 1 Piece...   \n",
      "4                                                           \n",
      "...                                                   ...   \n",
      "183133                                                NaN   \n",
      "183134                                                NaN   \n",
      "183135                                                NaN   \n",
      "183136                                                NaN   \n",
      "183137                                                NaN   \n",
      "\n",
      "                                                    title     model  \\\n",
      "0       Minions Como Superheroes Ironman Long Sleeve R...      None   \n",
      "1                           FIG Clothing Womens Izo Tunic      None   \n",
      "2                             FIG Clothing Womens Won Top      None   \n",
      "3       Focal18 Sailor Collar Bubble Sleeve Blouse Shi...      None   \n",
      "4       Featherlite Ladies' Long Sleeve Stain Resistan...      None   \n",
      "...                                                   ...       ...   \n",
      "183133  TOOGOO(R) Women's Tops Spring Autumn Casual Pu...  089106A4   \n",
      "183134  VOGUE CODE Vintage V Neck Plaid Shirt Sleevele...      None   \n",
      "183135  Wrangler George Strait For Her Long Sleeve Pin...   LGS7089   \n",
      "183136  Susana Monaco Womens Susana Monoco Sleeveless ...      None   \n",
      "183137  SexyBaby Women's Mesh Splive Flounced Sleeve C...      None   \n",
      "\n",
      "                                         medium_image_url   manufacturer  \\\n",
      "0       https://images-na.ssl-images-amazon.com/images...           None   \n",
      "1       https://images-na.ssl-images-amazon.com/images...           None   \n",
      "2       https://images-na.ssl-images-amazon.com/images...           None   \n",
      "3       https://images-na.ssl-images-amazon.com/images...           None   \n",
      "4       https://images-na.ssl-images-amazon.com/images...           None   \n",
      "...                                                   ...            ...   \n",
      "183133  https://images-na.ssl-images-amazon.com/images...           None   \n",
      "183134  https://images-na.ssl-images-amazon.com/images...           None   \n",
      "183135  https://images-na.ssl-images-amazon.com/images...           None   \n",
      "183136  https://images-na.ssl-images-amazon.com/images...  susana monaco   \n",
      "183137  https://images-na.ssl-images-amazon.com/images...           None   \n",
      "\n",
      "                                         editorial_reivew  \n",
      "0                                                     NaN  \n",
      "1                                                     NaN  \n",
      "2                                                     NaN  \n",
      "3                                                     NaN  \n",
      "4                                                     NaN  \n",
      "...                                                   ...  \n",
      "183133  <b>* TOOGOO is a registered trademark. ONLY Au...  \n",
      "183134  SIZE CHART <p> XS for length of front 27.6\"; l...  \n",
      "183135  Pretty pink print button down Western shirt fr...  \n",
      "183136  Color/pattern: rose. Approximately 23in from s...  \n",
      "183137  Please check the measurement chart carefully. ...  \n",
      "\n",
      "[183138 rows x 19 columns]\n"
     ]
    }
   ],
   "source": [
    "print(data)"
   ]
  },
  {
   "cell_type": "code",
   "execution_count": 9,
   "metadata": {},
   "outputs": [
    {
     "name": "stdout",
     "output_type": "stream",
     "text": [
      "Number of data points :  183138\n",
      "Number of features/variables: 19\n"
     ]
    }
   ],
   "source": [
    "print ('Number of data points : ', data.shape[0])\n",
    "print ('Number of features/variables:', data.shape[1])"
   ]
  },
  {
   "cell_type": "markdown",
   "metadata": {},
   "source": [
    "### Terminology\n",
    "Let's see the attributes we hav"
   ]
  },
  {
   "cell_type": "code",
   "execution_count": 10,
   "metadata": {},
   "outputs": [
    {
     "name": "stdout",
     "output_type": "stream",
     "text": [
      "Index(['sku', 'asin', 'product_type_name', 'formatted_price', 'author',\n",
      "       'color', 'brand', 'publisher', 'availability', 'reviews',\n",
      "       'large_image_url', 'availability_type', 'small_image_url',\n",
      "       'editorial_review', 'title', 'model', 'medium_image_url',\n",
      "       'manufacturer', 'editorial_reivew'],\n",
      "      dtype='object')\n"
     ]
    }
   ],
   "source": [
    "# each product/item has 19 features in the raw dataset.\n",
    "print(data.columns)# prints column-names or feature-names."
   ]
  },
  {
   "cell_type": "code",
   "execution_count": null,
   "metadata": {},
   "outputs": [],
   "source": []
  }
 ],
 "metadata": {
  "kernelspec": {
   "display_name": "Python 3",
   "language": "python",
   "name": "python3"
  },
  "language_info": {
   "codemirror_mode": {
    "name": "ipython",
    "version": 3
   },
   "file_extension": ".py",
   "mimetype": "text/x-python",
   "name": "python",
   "nbconvert_exporter": "python",
   "pygments_lexer": "ipython3",
   "version": "3.7.4"
  }
 },
 "nbformat": 4,
 "nbformat_minor": 1
}
